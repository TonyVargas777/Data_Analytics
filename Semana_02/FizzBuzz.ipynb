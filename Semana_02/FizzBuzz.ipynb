{
 "cells": [
  {
   "cell_type": "code",
   "execution_count": 10,
   "id": "6679b697-54d1-4c52-84bb-a34130e46d0f",
   "metadata": {
    "tags": []
   },
   "outputs": [
    {
     "name": "stdout",
     "output_type": "stream",
     "text": [
      "1\n",
      "2\n",
      "Fizz\n",
      "4\n",
      "Buzz\n",
      "Fizz\n",
      "7\n",
      "8\n",
      "Fizz\n",
      "Buzz\n",
      "11\n",
      "Fizz\n",
      "13\n",
      "14\n",
      "Fizz Buzz\n",
      "16\n",
      "17\n",
      "Fizz\n",
      "19\n",
      "Buzz\n",
      "Fizz\n",
      "22\n",
      "23\n",
      "Fizz\n",
      "Buzz\n",
      "26\n",
      "Fizz\n",
      "28\n",
      "29\n"
     ]
    }
   ],
   "source": [
    "for i in range(1,30):\n",
    "    if i % 15 == 0:\n",
    "        print(\"Fizz Buzz\")\n",
    "    elif i % 5 == 0:\n",
    "        print(\"Buzz\")\n",
    "    elif i % 3 == 0:\n",
    "        print(\"Fizz\")\n",
    "    else:\n",
    "        print(i)"
   ]
  },
  {
   "cell_type": "code",
   "execution_count": 16,
   "id": "7f0ada88-8dbb-41fe-996e-42ab69bb625d",
   "metadata": {
    "tags": []
   },
   "outputs": [
    {
     "name": "stdout",
     "output_type": "stream",
     "text": [
      "Fizz: [3, 6, 9, 12, 18, 21, 24, 27]\n",
      "Buzz: [5, 10, 20, 25]\n",
      "Fizz Buzz: [15, 30]\n",
      "El resto son: [1, 2, 4, 7, 8, 11, 13, 14, 16, 17, 19, 22, 23, 26, 28, 29]\n"
     ]
    }
   ],
   "source": [
    "Fizz = []\n",
    "Buzz = []\n",
    "FizzBuzz = []\n",
    "Otros = []\n",
    "\n",
    "for i in range(1,31):\n",
    "    if i % 15 == 0:\n",
    "        FizzBuzz.append(i)\n",
    "    elif i % 5 == 0:\n",
    "        Buzz.append(i)\n",
    "    elif i % 3 == 0:\n",
    "        Fizz.append(i)\n",
    "    else:\n",
    "        Otros.append(i)\n",
    "        \n",
    "print(f\"Fizz: {Fizz}\")\n",
    "print(f\"Buzz: {Buzz}\")\n",
    "print(f\"Fizz Buzz: {FizzBuzz}\")\n",
    "print(f\"El resto son: {Otros}\")"
   ]
  },
  {
   "cell_type": "code",
   "execution_count": null,
   "id": "1cae2ba6-dfcb-442d-922c-b25ed7bebe14",
   "metadata": {},
   "outputs": [],
   "source": []
  }
 ],
 "metadata": {
  "kernelspec": {
   "display_name": "Python 3 (ipykernel)",
   "language": "python",
   "name": "python3"
  },
  "language_info": {
   "codemirror_mode": {
    "name": "ipython",
    "version": 3
   },
   "file_extension": ".py",
   "mimetype": "text/x-python",
   "name": "python",
   "nbconvert_exporter": "python",
   "pygments_lexer": "ipython3",
   "version": "3.11.9"
  }
 },
 "nbformat": 4,
 "nbformat_minor": 5
}
