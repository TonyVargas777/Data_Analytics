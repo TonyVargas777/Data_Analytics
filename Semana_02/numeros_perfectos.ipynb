{
 "cells": [
  {
   "cell_type": "code",
   "execution_count": 173,
   "id": "4be875e9-1f93-479a-8bb5-361d1a62c77e",
   "metadata": {
    "tags": []
   },
   "outputs": [],
   "source": [
    "import time\n",
    "import winsound"
   ]
  },
  {
   "cell_type": "code",
   "execution_count": 230,
   "id": "3b759a6b-008c-4033-9689-4668d1b09231",
   "metadata": {
    "tags": []
   },
   "outputs": [],
   "source": [
    "def desc(num : int) -> list:\n",
    "    lista = [1]\n",
    "    for i in range(2,(num)):        \n",
    "        if num % i == 0:\n",
    "            lista.append(i)\n",
    "    return lista\n",
    "\n",
    "def sum_desc(num: int) -> int:\n",
    "    return sum(desc(num))\n",
    "\n",
    "def perfectos(x : int) -> None:\n",
    "    start = time.perf_counter()\n",
    "    for i in range(2,x):\n",
    "        b = i\n",
    "        if b == sum_desc(b):\n",
    "            print(f\"{b} es un número perfecto!!!!! \") \n",
    "            end = time.perf_counter()\n",
    "            elapsed = end - start\n",
    "            print(f'Time taken: {elapsed:.6f} seconds')\n",
    "            winsound.PlaySound('C:Windows/Media/notify.wav', winsound.SND_FILENAME)\n",
    "    winsound.PlaySound('C:Windows/Media/tada.wav', winsound.SND_FILENAME)"
   ]
  },
  {
   "cell_type": "code",
   "execution_count": 232,
   "id": "48d1146f-25aa-4622-a059-2c223630418e",
   "metadata": {
    "tags": []
   },
   "outputs": [
    {
     "name": "stdout",
     "output_type": "stream",
     "text": [
      "6 es un número perfecto!!!!! \n",
      "Time taken: 0.000102 seconds\n",
      "28 es un número perfecto!!!!! \n",
      "Time taken: 1.386207 seconds\n",
      "496 es un número perfecto!!!!! \n",
      "Time taken: 2.763189 seconds\n",
      "8128 es un número perfecto!!!!! \n",
      "Time taken: 6.266622 seconds\n"
     ]
    }
   ],
   "source": [
    "perfectos(10000)"
   ]
  },
  {
   "cell_type": "code",
   "execution_count": null,
   "id": "cc1ab4af-a324-4960-8ecb-ab395cc1343c",
   "metadata": {},
   "outputs": [],
   "source": []
  }
 ],
 "metadata": {
  "kernelspec": {
   "display_name": "Python 3 (ipykernel)",
   "language": "python",
   "name": "python3"
  },
  "language_info": {
   "codemirror_mode": {
    "name": "ipython",
    "version": 3
   },
   "file_extension": ".py",
   "mimetype": "text/x-python",
   "name": "python",
   "nbconvert_exporter": "python",
   "pygments_lexer": "ipython3",
   "version": "3.11.9"
  }
 },
 "nbformat": 4,
 "nbformat_minor": 5
}
