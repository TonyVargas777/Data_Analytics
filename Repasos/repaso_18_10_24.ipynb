{
 "cells": [
  {
   "cell_type": "code",
   "execution_count": 1,
   "id": "ad99137c-bcdc-4957-8f63-85ad958bbd3b",
   "metadata": {},
   "outputs": [],
   "source": [
    "import pandas as pd\n",
    "import numpy as np"
   ]
  },
  {
   "cell_type": "markdown",
   "id": "28d790c1-0a6f-49d6-b168-18c497a71256",
   "metadata": {},
   "source": [
    "#### NÚMEROS PERFECTOS"
   ]
  },
  {
   "cell_type": "code",
   "execution_count": 2,
   "id": "8c5a2723-e42f-496a-8021-525bc57ed6a1",
   "metadata": {},
   "outputs": [],
   "source": [
    "def perfecto(num):\n",
    "    suma = 0\n",
    "    for i in range(1, (num//2)+1):\n",
    "        if num % i == 0:\n",
    "            suma += i\n",
    "    if suma == num:\n",
    "        return True\n",
    "    else:\n",
    "        return False"
   ]
  },
  {
   "cell_type": "code",
   "execution_count": 3,
   "id": "adb75ae1-a8d0-46a0-a426-e0d9402e09e8",
   "metadata": {},
   "outputs": [
    {
     "name": "stdout",
     "output_type": "stream",
     "text": [
      "True\n",
      "True\n",
      "False\n"
     ]
    }
   ],
   "source": [
    "print(perfecto(6))\n",
    "print(perfecto(28))\n",
    "print(perfecto(8))"
   ]
  },
  {
   "cell_type": "markdown",
   "id": "467d16dd-1f4c-45be-9b6f-cd2c5b8fa3d2",
   "metadata": {},
   "source": [
    "#### NÚMEROS AMIGOS"
   ]
  },
  {
   "cell_type": "code",
   "execution_count": 4,
   "id": "1e18f142-6263-4578-aa96-9a9a88c9ea9f",
   "metadata": {},
   "outputs": [],
   "source": [
    "def amigos(num1, num2):\n",
    "    suma1 = 0\n",
    "    suma2 = 0\n",
    "\n",
    "    for i in range(1, (num1//2+1)):\n",
    "        if num1 % i == 0:\n",
    "            suma1 += i\n",
    "    for j in range(1, (num2//2+1)):\n",
    "        if num2 % j == 0:\n",
    "            suma2 += j\n",
    "    if suma1 == num2 and suma2 == num1:\n",
    "        return True\n",
    "    else:\n",
    "        return False"
   ]
  },
  {
   "cell_type": "code",
   "execution_count": 5,
   "id": "95992d11-9177-451d-bd29-2ad950d89f20",
   "metadata": {},
   "outputs": [
    {
     "name": "stdout",
     "output_type": "stream",
     "text": [
      "False\n",
      "True\n"
     ]
    }
   ],
   "source": [
    "print(amigos(200, 230))\n",
    "print(amigos(9363584, 9437056))"
   ]
  },
  {
   "cell_type": "markdown",
   "id": "b571f14d-09e5-4207-b684-bab1ef9ee997",
   "metadata": {},
   "source": [
    "#### NÚMERO AMBICIOSO"
   ]
  },
  {
   "cell_type": "code",
   "execution_count": 6,
   "id": "0edb5f35-b804-46f8-bacd-aa1e480c47b7",
   "metadata": {},
   "outputs": [],
   "source": [
    "def divisores(num):\n",
    "    lista = []\n",
    "    for i in range(1, (num//2+1)):\n",
    "        if num % i == 0:\n",
    "            lista.append(i)\n",
    "    return lista"
   ]
  },
  {
   "cell_type": "code",
   "execution_count": 7,
   "id": "ea33dc2d-9686-47c0-8bc6-f2fa08fcc8e3",
   "metadata": {},
   "outputs": [
    {
     "name": "stdout",
     "output_type": "stream",
     "text": [
      "[1, 2, 4, 7, 14]\n"
     ]
    }
   ],
   "source": [
    "print(divisores(28))"
   ]
  },
  {
   "cell_type": "code",
   "execution_count": 8,
   "id": "71ced82d-c4f1-4cc6-aace-435df59ed011",
   "metadata": {},
   "outputs": [],
   "source": [
    "def ambicios(num):\n",
    "    if perfecto(num):\n",
    "        return True\n",
    "    elif num == 1:\n",
    "        return False\n",
    "    return(ambicios(sum(divisores(num))))\n",
    "    "
   ]
  },
  {
   "cell_type": "code",
   "execution_count": 9,
   "id": "7974a859-b5ff-402f-87bf-d79e3b09fb7c",
   "metadata": {},
   "outputs": [
    {
     "name": "stdout",
     "output_type": "stream",
     "text": [
      "True\n",
      "False\n",
      "True\n"
     ]
    }
   ],
   "source": [
    "print(ambicios(95))\n",
    "print(ambicios(195))\n",
    "print(ambicios(25))"
   ]
  },
  {
   "cell_type": "code",
   "execution_count": 19,
   "id": "6d5a1f64-9d14-4295-8b2b-c9b1db64a185",
   "metadata": {},
   "outputs": [],
   "source": [
    "def ambicios_while(num):\n",
    "    current_num = num\n",
    "    while perfecto(current_num) != True:\n",
    "        if current_num == 1:\n",
    "            return False\n",
    "        suma = 0\n",
    "        for divisor in range(1, current_num//2+1):\n",
    "            if current_num % divisor == 0:\n",
    "                suma += divisor\n",
    "        current_num = suma\n",
    "        \n",
    "    return True"
   ]
  },
  {
   "cell_type": "code",
   "execution_count": 20,
   "id": "ae4fedf6-51ee-46fc-9d71-33264d9cfb17",
   "metadata": {},
   "outputs": [
    {
     "name": "stdout",
     "output_type": "stream",
     "text": [
      "True\n",
      "False\n",
      "True\n"
     ]
    }
   ],
   "source": [
    "print(ambicios_while(95))\n",
    "print(ambicios_while(195))\n",
    "print(ambicios_while(25))"
   ]
  },
  {
   "cell_type": "markdown",
   "id": "e6702f63-af79-45f0-8259-12bb1a08d88d",
   "metadata": {},
   "source": [
    "#### CAPICUA"
   ]
  },
  {
   "cell_type": "code",
   "execution_count": 76,
   "id": "0d915834-ad29-4947-957f-c14591d55e1a",
   "metadata": {},
   "outputs": [],
   "source": [
    "def capi(p):\n",
    "    cadena = []\n",
    "    for i in range(len(p)//2):        \n",
    "        if p[i] != p[-i-1]:\n",
    "            return False\n",
    "    return True            "
   ]
  },
  {
   "cell_type": "code",
   "execution_count": 83,
   "id": "124b4b4d-43ea-44bc-893c-29da2a7faa23",
   "metadata": {},
   "outputs": [
    {
     "name": "stdout",
     "output_type": "stream",
     "text": [
      "True\n",
      "False\n",
      "False\n",
      "True\n",
      "True\n"
     ]
    }
   ],
   "source": [
    "print(capi(\"ANNA\"))\n",
    "print(capi(\"AANNA\"))\n",
    "print(capi(\"SUSANA\"))\n",
    "print(capi(\"ANNA\"))\n",
    "print(capi(\"YOHAGOYOGAHOY\"))"
   ]
  },
  {
   "cell_type": "markdown",
   "id": "5511a531-cb65-482b-9bc9-ea9744819520",
   "metadata": {},
   "source": [
    "#### SUMATORIO PAREJAS"
   ]
  },
  {
   "cell_type": "code",
   "execution_count": 117,
   "id": "818bf71d-8470-4d37-b344-9fc6e7fe0c59",
   "metadata": {},
   "outputs": [],
   "source": [
    "def parellesSuma(llista, suma):\n",
    "    for num1 in llista:\n",
    "        for num2 in llista:\n",
    "            if num1 + num2 == suma:\n",
    "                llista.remove(num1)\n",
    "                print(num1,num2)"
   ]
  },
  {
   "cell_type": "code",
   "execution_count": 118,
   "id": "baf5808c-91bc-43d3-824e-673b25beaa7a",
   "metadata": {},
   "outputs": [
    {
     "name": "stdout",
     "output_type": "stream",
     "text": [
      "3 7\n",
      "5 5\n",
      "8 2\n",
      "None\n"
     ]
    }
   ],
   "source": [
    "llista = [3,1,5,2,7,8]\n",
    "suma = 10    \n",
    "    \n",
    "print(parellesSuma(llista, suma))"
   ]
  },
  {
   "cell_type": "code",
   "execution_count": null,
   "id": "24fe19da-60dd-47a7-a64d-db69f86eec5e",
   "metadata": {},
   "outputs": [],
   "source": []
  }
 ],
 "metadata": {
  "kernelspec": {
   "display_name": "Python 3 (ipykernel)",
   "language": "python",
   "name": "python3"
  },
  "language_info": {
   "codemirror_mode": {
    "name": "ipython",
    "version": 3
   },
   "file_extension": ".py",
   "mimetype": "text/x-python",
   "name": "python",
   "nbconvert_exporter": "python",
   "pygments_lexer": "ipython3",
   "version": "3.12.6"
  }
 },
 "nbformat": 4,
 "nbformat_minor": 5
}
